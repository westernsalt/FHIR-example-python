{
 "cells": [
  {
   "cell_type": "code",
   "execution_count": 51,
   "metadata": {},
   "outputs": [
    {
     "name": "stdout",
     "output_type": "stream",
     "text": [
      "서버와의 연결이 확인되었습니다.\n"
     ]
    }
   ],
   "source": [
    "# Description: FHIR 서버와 연결하기 위한 코드 . hskim\n",
    "\n",
    "#Imports\n",
    "from fhirpy import SyncFHIRClient # fhir 표준을 사용하기 위한 라이브러리\n",
    "from fhir.resources.patient import Patient # fhir 리소스 중 환자 리소스를 사용하기 위한 라이브러리\n",
    "from fhir.resources.observation import Observation # fhir 리소스 중 Observation 리소스를 사용하기 위한 라이브러리, Lab Test 결과를 저장하기 위해 사용\n",
    "from fhir.resources.humanname import HumanName # fhir 리소스 중 HumanName 리소스를 사용하기 위한 라이브러리, 환자 이름을 저장하기 위해 사용\n",
    "from fhir.resources.contactpoint import ContactPoint # fhir 리소스 중 ContactPoint 리소스를 사용하기 위한 라이브러리, 환자 연락처를 저장하기 위해 사용\n",
    "from fhir.resources.reference import Reference # fhir 리소스 중 Reference 리소스를 사용하기 위한 라이브러리, 환자 정보를 저장하기 위해 사용\n",
    "from fhir.resources.codeableconcept import CodeableConcept\n",
    "from fhir.resources.coding import Coding \n",
    "from fhir.resources.quantity import Quantity \n",
    "\n",
    "from fhirpy.base.exceptions import ResourceNotFound # fhirpy exception을 처리하기 위한 라이브러리\n",
    "\n",
    "import subprocess\n",
    "import json\n",
    "\n",
    "# import hs_config as CONFIG # 개인 config 내용을 정리하기 위한 파일\n",
    "\n",
    "BASE_URL = \"http://127.0.0.1:5000\" # \"https://hapi.fhir.org/baseR4\"  # FHIR 서버의 URL 혹은 ip와 연결\n",
    "TOKEN_URL = \"YOUR_TOKEN_URL\"\n",
    "    \n",
    "class FHIRClient(): # Fhir 서버와 연결하기 위한 클래스\n",
    "    def __init__(self) -> None:\n",
    "        self.m_client = None\n",
    "        self.m_access_token = None\n",
    "        self.m_refresh_token = None\n",
    "        # self.RequestAccessToken()\n",
    "        self.CreateClient()\n",
    "\n",
    "    def RequestAccessToken(self):\n",
    "        # 이 CURL Command 내에서 서버에서 받아와야하는 certification 요청\n",
    "        # Command의 내용은 서버에서 받아와야 하는 내용에 따라 변경\n",
    "        curl_command = f\"curl --location {TOKEN_URL} \\\n",
    "        --header 'Content-Type: application/x-www-form-urlencoded'\" \n",
    "\n",
    "        # curl 명령 실행\n",
    "        process = subprocess.Popen(curl_command, stdout=subprocess.PIPE, stderr=subprocess.PIPE, shell=True)\n",
    "        response, error = process.communicate()\n",
    "\n",
    "        # 응답 처리\n",
    "        if process.returncode == 0:\n",
    "            response_data = json.loads(response.decode('utf-8'))\n",
    "            # 특정 키워드 값 추출\n",
    "            self.m_access_token = response_data.get('access_token', None) # 받아와야 하는 토큰의 이름에 따라 acceess_token 혹은 refresh_toke 등으로 변경\n",
    "        else:\n",
    "            print(f\"Error: {error.decode('utf-8')}\")\n",
    "\n",
    "    def CreateClient(self):\n",
    "        # FHIR 클라이언트 인스턴스 생성\n",
    "        self.m_client = SyncFHIRClient(BASE_URL) # 본인이 연결하고자 하는 서버의 URL 혹은 ip와 연결\n",
    "            #, authorization=f'Bearer {self.m_access_token}'  # Bearer 토큰 인증\n",
    "            # 토큰이 필요하지 않은 경우 authorization 부분은 삭제\n",
    "\n",
    "        # 서버와의 연결 확인\n",
    "        try:\n",
    "            # 서버에서 임의의 리소스를 가져와 연결 확인\n",
    "            # self.m_client.resources('Patient').fetch() # 자체 서버인 경우 데이터가 없을 때 문제 생기니까 주석처리해야함\n",
    "            print(\"서버와의 연결이 확인되었습니다.\")\n",
    "        except ResourceNotFound:\n",
    "            print(\"서버에 리소스가 없거나 접근할 수 없습니다.\")\n",
    "        except Exception as e:\n",
    "            print(f\"서버와의 연결 확인 중 오류 발생: {e}\")\n",
    "\n",
    "client = FHIRClient()"
   ]
  },
  {
   "cell_type": "markdown",
   "metadata": {},
   "source": [
    "### 환자 저장\n",
    "dict 타입으로 저장하는 방법"
   ]
  },
  {
   "cell_type": "code",
   "execution_count": 52,
   "metadata": {},
   "outputs": [],
   "source": [
    "# 가상의 환자 p\n",
    "p = {\n",
    "    'patient_number': 1234567890,\n",
    "    'family_name': '홍',\n",
    "    'given_name': '길동',\n",
    "    'sex' : 'F'\n",
    "}\n",
    "\n",
    "# 더미 환자 데이터 추가\n",
    "new_patient = client.m_client.resource(\n",
    "    'Patient',\n",
    "    identifier=[{\n",
    "    'system': 'http://YOUR.SYSTEM.URL/',\n",
    "    'value': str(p['patient_number'])\n",
    "}],\n",
    "    name=[{\n",
    "        'use': 'official',\n",
    "        'family': str(p['family_name']),\n",
    "        'given': [str(p['given_name'])]\n",
    "    }],\n",
    "    gender = \"female\" if p['sex'] == \"F\" else \"male\"\n",
    "    #,id = str(p['patient_number'])\n",
    "    )\n",
    "\n",
    "# 환자 데이터 저장\n",
    "new_patient.save()"
   ]
  },
  {
   "cell_type": "markdown",
   "metadata": {},
   "source": [
    "### 환자 검색"
   ]
  },
  {
   "cell_type": "code",
   "execution_count": 53,
   "metadata": {},
   "outputs": [
    {
     "name": "stdout",
     "output_type": "stream",
     "text": [
      "{'use': 'official', 'family': '홍', 'given': ['길동']}\n"
     ]
    }
   ],
   "source": [
    "search = client.m_client.resources('Patient').search(identifier=p['patient_number'])\n",
    "patients = search.fetch()\n",
    "\n",
    "for pt in patients:\n",
    "    print(pt.name[0])"
   ]
  },
  {
   "cell_type": "markdown",
   "metadata": {},
   "source": [
    "### Observation 저장\n",
    "클래스 개별 선언으로 저장하는 방법"
   ]
  },
  {
   "cell_type": "code",
   "execution_count": 54,
   "metadata": {},
   "outputs": [],
   "source": [
    "# 시스템 내에서 사용하는 코드, 코드명, 코드 설명을 설정\n",
    "coding = Coding()\n",
    "coding.system = 'http://YOUR.SYSTEM.URL/'\n",
    "coding.code = \"2093-3\"\n",
    "coding.display = \"Aspartate aminotransferase [Enzymatic activity/volume] in Serum or Plasma\"\n",
    "code = CodeableConcept()\n",
    "code.coding = [coding]\n",
    "code.text = \"Aspartate aminotransferase [Enzymatic activity/volume] in Serum or Plasma\"\n",
    "\n",
    "#fhir.resources observation 생성\n",
    "observation0 = Observation(status=\"final\",code=code)\n",
    "\n",
    "category = CodeableConcept()\n",
    "category.coding = [coding]\n",
    "\n",
    "observation0.category = [category]\n",
    "observation0.effectiveDateTime = \"2012-05-10T11:59:49+00:00\"\n",
    "observation0.issued = \"2012-05-10T11:59:49.565+00:00\"\n",
    "\n",
    "# 코드, 단위, 시스템, 값으로 구성된 valueQuantity 설정\n",
    "valueQuantity = Quantity()\n",
    "valueQuantity.code = \"x\"\n",
    "valueQuantity.unit = \"x\"\n",
    "valueQuantity.system = \"https://unitsofmeasure.org\"\n",
    "valueQuantity.value = 37.395\n",
    "\n",
    "observation0.valueQuantity = valueQuantity\n",
    "\n",
    "# 레퍼런스 세팅\n",
    "id = p['patient_number']\n",
    "reference = Reference()\n",
    "reference.reference = f\"Patient/{id}\"\n",
    "reference.id = str(id)\n",
    "\n",
    "observation0.subject = reference\n",
    "\n",
    "ob = json.loads(observation0.json())\n",
    "\n",
    "client.m_client.resource('Observation',**ob).save()"
   ]
  },
  {
   "cell_type": "markdown",
   "metadata": {},
   "source": [
    "### Observation 검색"
   ]
  },
  {
   "cell_type": "code",
   "execution_count": 55,
   "metadata": {},
   "outputs": [
    {
     "name": "stdout",
     "output_type": "stream",
     "text": [
      "1\n",
      "[{'coding': [{'system': 'http://YOUR.SYSTEM.URL/', 'code': '2093-3', 'display': 'Aspartate aminotransferase [Enzymatic activity/volume] in Serum or Plasma'}]}]\n"
     ]
    }
   ],
   "source": [
    "search = client.m_client.resources('Observation').search(id=p['patient_number'])\n",
    "observation = search.fetch()\n",
    "\n",
    "print(len(observation))\n",
    "for ob in observation:\n",
    "    print(ob.category)"
   ]
  },
  {
   "cell_type": "code",
   "execution_count": null,
   "metadata": {},
   "outputs": [],
   "source": []
  }
 ],
 "metadata": {
  "kernelspec": {
   "display_name": "dtprp",
   "language": "python",
   "name": "python3"
  },
  "language_info": {
   "codemirror_mode": {
    "name": "ipython",
    "version": 3
   },
   "file_extension": ".py",
   "mimetype": "text/x-python",
   "name": "python",
   "nbconvert_exporter": "python",
   "pygments_lexer": "ipython3",
   "version": "3.12.0"
  }
 },
 "nbformat": 4,
 "nbformat_minor": 2
}
